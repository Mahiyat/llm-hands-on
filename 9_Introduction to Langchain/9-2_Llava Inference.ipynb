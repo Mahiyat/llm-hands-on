{
 "cells": [
  {
   "metadata": {},
   "cell_type": "markdown",
   "source": [
    "## Pre-requisite\n",
    "**Setup Ollama**<br>\n",
    "For setting up ollama in your local environment, click [here](https://github.com/ollama/ollama).\n",
    "\n",
    "**Pull Model**<br>\n",
    "Pull the required model running the following command:\n",
    "```bash\n",
    "ollama pull llava\n",
    "```\n",
    "To use a different multimodal model check [here](https://ollama.com/library).\n",
    "\n",
    "**Install python library**<br>\n",
    "Install the python library for langchain_ollama\n",
    "```bash\n",
    "pip install langchain-ollama\n",
    "```\n",
    "To learn more, click [here](https://python.langchain.com/docs/integrations/providers/ollama/)."
   ],
   "id": "4fd95522ef92e2a0"
  },
  {
   "metadata": {},
   "cell_type": "markdown",
   "source": "## Import Libraries",
   "id": "288b25b8a4cf2547"
  },
  {
   "cell_type": "code",
   "id": "initial_id",
   "metadata": {
    "collapsed": true,
    "ExecuteTime": {
     "end_time": "2024-10-15T05:14:33.213366Z",
     "start_time": "2024-10-15T05:14:32.222535Z"
    }
   },
   "source": [
    "import base64\n",
    "from io import BytesIO\n",
    "from IPython.display import HTML, display, Markdown\n",
    "from PIL import Image\n",
    "from langchain_core.messages import HumanMessage\n",
    "from langchain_ollama import ChatOllama\n",
    "from langchain_core.output_parsers import StrOutputParser"
   ],
   "outputs": [],
   "execution_count": 1
  },
  {
   "metadata": {},
   "cell_type": "markdown",
   "source": [
    "* base64: Converts image data into a base64 string for embedding into HTML.\n",
    "* BytesIO: Used to handle image data in memory.\n",
    "* IPython.display: Enables display of rich content (like images, Markdown) in a Jupyter Notebook environment.\n",
    "* PIL.Image: Used to open and manipulate images.\n",
    "* LangChain and ChatOllama: Integrates the language model LLava for generating responses based on both image and text input."
   ],
   "id": "afaded4623397a7c"
  },
  {
   "metadata": {},
   "cell_type": "markdown",
   "source": "## Define Function to Convert an Image to Base64",
   "id": "d4fc4586410358ef"
  },
  {
   "metadata": {
    "ExecuteTime": {
     "end_time": "2024-10-15T05:14:33.229367Z",
     "start_time": "2024-10-15T05:14:33.217360Z"
    }
   },
   "cell_type": "code",
   "source": [
    "def convert_to_base64(pil_image):\n",
    "    buffered = BytesIO()\n",
    "    pil_image.save(buffered, format=\"JPEG\")\n",
    "    img_str = base64.b64encode(buffered.getvalue()).decode(\"utf-8\")\n",
    "    return img_str"
   ],
   "id": "84170e7b7c98fe1e",
   "outputs": [],
   "execution_count": 2
  },
  {
   "metadata": {},
   "cell_type": "markdown",
   "source": [
    "* Converts a PIL image into a base64-encoded string.\n",
    "* This allows embedding the image in HTML or passing it in API requests.\n",
    "* Saves the image to a memory buffer (BytesIO), encodes it as base64, and returns the encoded string."
   ],
   "id": "490e590116c41f7a"
  },
  {
   "metadata": {},
   "cell_type": "markdown",
   "source": "## Define Function to Render Image in Notebook",
   "id": "eb9236e313a7c780"
  },
  {
   "metadata": {
    "ExecuteTime": {
     "end_time": "2024-10-15T05:14:33.322008Z",
     "start_time": "2024-10-15T05:14:33.306961Z"
    }
   },
   "cell_type": "code",
   "source": [
    "def plt_img_base64(img_base64):\n",
    "    image_html = f'<img src=\"data:image/jpeg;base64,{img_base64}\" />'\n",
    "    display(HTML(image_html))"
   ],
   "id": "29f50f0d8770a48",
   "outputs": [],
   "execution_count": 3
  },
  {
   "metadata": {},
   "cell_type": "markdown",
   "source": [
    "* Takes a base64-encoded image string and displays it as HTML using an <img> tag.\n",
    "* Useful for rendering the image inline in a notebook."
   ],
   "id": "69bc6e8668190e13"
  },
  {
   "metadata": {},
   "cell_type": "markdown",
   "source": "## Load and Display Image",
   "id": "1db006b5e9996fc3"
  },
  {
   "metadata": {
    "ExecuteTime": {
     "end_time": "2024-10-15T05:14:33.368811Z",
     "start_time": "2024-10-15T05:14:33.338268Z"
    }
   },
   "cell_type": "code",
   "source": [
    "file_path = './Images/bus.jpg'\n",
    "pil_image = Image.open(file_path)\n",
    "image_b64 = convert_to_base64(pil_image)\n",
    "plt_img_base64(image_b64)"
   ],
   "id": "50f69fc6c6c57631",
   "outputs": [
    {
     "data": {
      "text/plain": [
       "<IPython.core.display.HTML object>"
      ],
      "text/html": [
       "<img src=\"data:image/jpeg;base64,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\" />"
      ]
     },
     "metadata": {},
     "output_type": "display_data"
    }
   ],
   "execution_count": 4
  },
  {
   "metadata": {},
   "cell_type": "markdown",
   "source": "Loads an image file (bus.jpg) using PIL, converts it to a base64 string, and then displays it in the notebook via HTML using plt_img_base64.",
   "id": "90006c09b77dc241"
  },
  {
   "metadata": {},
   "cell_type": "markdown",
   "source": "## ChatOllama Initialization",
   "id": "537e8e8827fe464b"
  },
  {
   "metadata": {
    "ExecuteTime": {
     "end_time": "2024-10-15T05:14:33.415701Z",
     "start_time": "2024-10-15T05:14:33.386540Z"
    }
   },
   "cell_type": "code",
   "source": [
    "llm = ChatOllama(\n",
    "    model=\"llava\",\n",
    "    temperature=0.8,\n",
    "    seed=42,\n",
    ")"
   ],
   "id": "807cda3929a3fa92",
   "outputs": [],
   "execution_count": 5
  },
  {
   "metadata": {},
   "cell_type": "markdown",
   "source": [
    "* ChatOllama is instantiated using the LLava model, which is a variant of the LlaMA model designed to process both text and image inputs.\n",
    "* The model's temperature is set to 0.8, allowing it to generate more creative responses."
   ],
   "id": "1d10742548779f59"
  },
  {
   "metadata": {},
   "cell_type": "markdown",
   "source": "## Create a Message for the LLM",
   "id": "d5a32a0e6cab2dde"
  },
  {
   "metadata": {
    "ExecuteTime": {
     "end_time": "2024-10-15T05:14:33.446535Z",
     "start_time": "2024-10-15T05:14:33.432428Z"
    }
   },
   "cell_type": "code",
   "source": [
    "def prompt_func(data):\n",
    "    text = data[\"text\"]\n",
    "    image = data[\"image\"]\n",
    "\n",
    "    image_part = {\n",
    "        \"type\": \"image_url\",\n",
    "        \"image_url\": f\"data:image/jpeg;base64,{image}\",\n",
    "    }\n",
    "\n",
    "    content_parts = []\n",
    "\n",
    "    text_part = {\"type\": \"text\", \"text\": text}\n",
    "\n",
    "    content_parts.append(image_part)\n",
    "    content_parts.append(text_part)\n",
    "\n",
    "    return [HumanMessage(content=content_parts)]"
   ],
   "id": "abdd19edacc7a0c4",
   "outputs": [],
   "execution_count": 6
  },
  {
   "metadata": {},
   "cell_type": "markdown",
   "source": [
    "* prompt_func(data):\n",
    "    * Accepts a dictionary with text and image data.\n",
    "    * Prepares the image and text as two separate content parts in a structured format.\n",
    "        * The image is represented by its base64 string in the \"image_url\" key.\n",
    "        * The text is passed separately under \"text\".\n",
    "    * Returns this formatted data as a HumanMessage object, which the language model can process."
   ],
   "id": "ea77b4f5582fef92"
  },
  {
   "metadata": {},
   "cell_type": "markdown",
   "source": "## Query and Response Chain",
   "id": "b62d85fa68d59759"
  },
  {
   "metadata": {
    "ExecuteTime": {
     "end_time": "2024-10-15T05:14:38.894628Z",
     "start_time": "2024-10-15T05:14:33.463069Z"
    }
   },
   "cell_type": "code",
   "source": [
    "chain = prompt_func | llm | StrOutputParser()\n",
    "\n",
    "query_chain = chain.invoke(\n",
    "    {\"text\": \"What is the color of the bus in the image?\", \"image\": image_b64}\n",
    ")\n",
    "\n",
    "display(Markdown(query_chain))"
   ],
   "id": "f6bffd328a26ed53",
   "outputs": [
    {
     "data": {
      "text/plain": [
       "<IPython.core.display.Markdown object>"
      ],
      "text/markdown": " The color of the bus in the image is yellow. "
     },
     "metadata": {},
     "output_type": "display_data"
    }
   ],
   "execution_count": 7
  },
  {
   "metadata": {},
   "cell_type": "markdown",
   "source": [
    "--------------------------------------------------------------------------------------------------------------------------------------------\n",
    "**Code Explanation**<br>\n",
    "* The | operator defines a pipeline. Here, the flow is:\n",
    "    * prompt_func: Prepares the text and image data.\n",
    "    * llm: Sends the formatted input to the LLava model for processing.\n",
    "    * StrOutputParser(): Parses the response into a string format that can be displayed or printed.\n",
    "* This sends the query and the image (base64-encoded) to the model.\n",
    "* The model processes both the image and the question: \"What is the color of the bus in the image?\"\n",
    "* The LLava model generates a response.\n",
    "* Finally, the response is displayed in Markdown format, making it easy to render in a notebook environment."
   ],
   "id": "e20579b41ac80e9d"
  },
  {
   "metadata": {},
   "cell_type": "markdown",
   "source": [
    "## Summary\n",
    "* Image Handling: The code loads an image, converts it into base64, and displays it.\n",
    "* LLava Model Interaction: The image and a text query are passed to the LLava model, which is capable of understanding and generating responses based on both text and images.\n",
    "* Querying the Model: The model is asked about the color of the bus in the image, and its response is rendered as Markdown."
   ],
   "id": "f191ee6460c838cd"
  }
 ],
 "metadata": {
  "kernelspec": {
   "display_name": "Python 3",
   "language": "python",
   "name": "python3"
  },
  "language_info": {
   "codemirror_mode": {
    "name": "ipython",
    "version": 2
   },
   "file_extension": ".py",
   "mimetype": "text/x-python",
   "name": "python",
   "nbconvert_exporter": "python",
   "pygments_lexer": "ipython2",
   "version": "2.7.6"
  }
 },
 "nbformat": 4,
 "nbformat_minor": 5
}
