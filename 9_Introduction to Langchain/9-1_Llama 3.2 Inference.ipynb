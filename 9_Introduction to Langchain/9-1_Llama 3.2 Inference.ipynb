{
 "cells": [
  {
   "metadata": {},
   "cell_type": "markdown",
   "source": [
    "## Pre-requisite\n",
    "**Setup Ollama**<br>\n",
    "For setting up ollama in your local environment, click [here](https://github.com/ollama/ollama).\n",
    "\n",
    "**Pull Model**<br>\n",
    "Pull the required model running the following command:\n",
    "```bash\n",
    "ollama pull llama3.2\n",
    "```\n",
    "To use more variants of the llama model check [here](https://ollama.com/library).\n",
    "\n",
    "**Install python library**<br>\n",
    "Install the python library for langchain_ollama\n",
    "```bash\n",
    "pip install langchain-ollama\n",
    "```\n",
    "To learn more, click [here](https://python.langchain.com/docs/integrations/providers/ollama/)."
   ],
   "id": "62a5a33e27877ef0"
  },
  {
   "metadata": {},
   "cell_type": "markdown",
   "source": "## Import Libraries",
   "id": "158b4823098e3b04"
  },
  {
   "cell_type": "code",
   "id": "initial_id",
   "metadata": {
    "collapsed": true,
    "ExecuteTime": {
     "end_time": "2024-10-15T04:39:19.599972Z",
     "start_time": "2024-10-15T04:39:18.561591Z"
    }
   },
   "source": [
    "from langchain_ollama import ChatOllama\n",
    "from IPython.display import display, Markdown"
   ],
   "outputs": [],
   "execution_count": 1
  },
  {
   "metadata": {},
   "cell_type": "markdown",
   "source": [
    "* LangChain Ollama: Provides a way to interface with Ollama's models through LangChain.\n",
    "* IPython.display: Used to render output in Markdown format in a notebook environment."
   ],
   "id": "b72adea4e7154d56"
  },
  {
   "metadata": {},
   "cell_type": "markdown",
   "source": "## Initialize the ChatOllama Object",
   "id": "facbdb684d95782e"
  },
  {
   "metadata": {
    "ExecuteTime": {
     "end_time": "2024-10-15T04:39:19.630075Z",
     "start_time": "2024-10-15T04:39:19.603967Z"
    }
   },
   "cell_type": "code",
   "source": [
    "llm = ChatOllama(\n",
    "    model=\"llama3.2\",\n",
    "    seed=42,\n",
    "    temperature=0.8\n",
    ")"
   ],
   "id": "2e9c256b0f69567b",
   "outputs": [],
   "execution_count": 2
  },
  {
   "metadata": {},
   "cell_type": "markdown",
   "source": [
    "* ChatOllama: A class from the langchain_ollama package that interfaces with the LLaMA model.\n",
    "* The model specified is \"llama3.2\", which is an instance of the LLaMA 3.2 language model.\n",
    "* seed=42: This sets the seed for reproducibility, ensuring consistent results across runs.\n",
    "* temperature=0.8: Controls the model's creativity or randomness. A lower value makes the model more deterministic (focused on high-probability words), while a higher value (closer to 1) encourages more creative and diverse output."
   ],
   "id": "765b8eae7a3382a1"
  },
  {
   "metadata": {},
   "cell_type": "markdown",
   "source": "## Define Message for First Query",
   "id": "83836158cf5d48a4"
  },
  {
   "metadata": {
    "ExecuteTime": {
     "end_time": "2024-10-15T04:39:19.722993Z",
     "start_time": "2024-10-15T04:39:19.708987Z"
    }
   },
   "cell_type": "code",
   "source": [
    "messages1=[\n",
    "    (\"human\", \"Tell me about Machine Learning.\")\n",
    "]"
   ],
   "id": "6aa93a4db5e01293",
   "outputs": [],
   "execution_count": 3
  },
  {
   "metadata": {},
   "cell_type": "markdown",
   "source": "messages1: A list of messages, where the user (identified as \"human\") sends a query: \"Tell me about Machine Learning\".",
   "id": "78f9c532ce37e44c"
  },
  {
   "metadata": {},
   "cell_type": "markdown",
   "source": "## First Query - Ask about Machine Learning",
   "id": "8c208158c4e3241a"
  },
  {
   "metadata": {
    "ExecuteTime": {
     "end_time": "2024-10-15T04:39:31.225629Z",
     "start_time": "2024-10-15T04:39:19.739987Z"
    }
   },
   "cell_type": "code",
   "source": [
    "response1 = llm.invoke(messages1)\n",
    "display(Markdown(response1.content))"
   ],
   "id": "a1cda420aa635a2a",
   "outputs": [
    {
     "data": {
      "text/plain": [
       "<IPython.core.display.Markdown object>"
      ],
      "text/markdown": "Machine learning (ML) is a subset of artificial intelligence (AI) that involves the use of algorithms and statistical models to enable machines to learn from data, make decisions, and improve their performance over time.\n\n**Key Concepts:**\n\n1. **Supervised Learning:** In supervised learning, the algorithm is trained on labeled data, where the correct output is already known. The goal is to learn a mapping between input data and the corresponding output labels.\n2. **Unsupervised Learning:** In unsupervised learning, the algorithm is trained on unlabeled data, and it must identify patterns or structure in the data without any prior knowledge of the correct output.\n3. **Reinforcement Learning:** In reinforcement learning, the algorithm learns through trial and error by interacting with an environment and receiving feedback in the form of rewards or penalties.\n\n**Machine Learning Techniques:**\n\n1. **Linear Regression:** A linear regression model predicts a continuous output variable based on one or more input features.\n2. **Decision Trees:** Decision trees are a type of supervised learning algorithm that uses a tree-like model to classify data or predict outcomes.\n3. **Random Forests:** Random forests are an ensemble learning method that combines multiple decision trees to improve accuracy and robustness.\n4. **Neural Networks:** Neural networks are a type of machine learning algorithm inspired by the human brain's neural structure. They can learn complex patterns in data and are commonly used for image and speech recognition.\n\n**Applications of Machine Learning:**\n\n1. **Image Recognition:** Machine learning is widely used in image recognition applications, such as self-driving cars, facial recognition systems, and product image classification.\n2. **Natural Language Processing (NLP):** NLP is a subset of machine learning that deals with the interaction between computers and human language. Applications include chatbots, sentiment analysis, and text summarization.\n3. **Predictive Maintenance:** Machine learning can be used to predict equipment failures, reducing downtime and increasing overall efficiency.\n4. **Recommendation Systems:** Recommendation systems use machine learning algorithms to suggest products or services based on user behavior and preferences.\n\n**Challenges and Limitations:**\n\n1. **Data Quality:** Poor data quality can lead to biased models that don't generalize well to new, unseen data.\n2. **Overfitting:** Models that are too complex may overfit the training data, failing to generalize to new data.\n3. **Explainability:** Machine learning models can be difficult to interpret and explain, making it challenging to understand why a particular decision was made.\n4. **Bias and Fairness:** Machine learning models can perpetuate existing biases and inequalities if not designed with fairness in mind.\n\n**Future Directions:**\n\n1. **Explainable AI (XAI):** XAI aims to develop techniques that can explain the decisions made by machine learning models, increasing transparency and trust.\n2. **Adversarial Robustness:** Adversarial robustness involves developing models that are resistant to adversarial attacks, which can compromise the accuracy of machine learning systems.\n3. **Edge AI:** Edge AI involves deploying machine learning models directly on devices or edge nodes, reducing latency and improving real-time decision-making.\n\nIn conclusion, machine learning is a rapidly evolving field with a wide range of applications in various industries. As the field continues to advance, we can expect to see improved performance, explainability, and fairness in machine learning models."
     },
     "metadata": {},
     "output_type": "display_data"
    }
   ],
   "execution_count": 4
  },
  {
   "metadata": {},
   "cell_type": "markdown",
   "source": [
    "------------------------------------------------------------------------------------------------------------------------------------------\n",
    "**Code Explanation**<br>\n",
    "* llm.invoke(): This method sends the query to the model and retrieves the full response.\n",
    "* The response content (response1.content) is then displayed using Markdown in a notebook. This provides a rich text format with proper layout."
   ],
   "id": "4ace104a2c55b5e1"
  },
  {
   "metadata": {},
   "cell_type": "markdown",
   "source": "## Define Message for Second Query",
   "id": "ad5b674de96f5d62"
  },
  {
   "metadata": {
    "ExecuteTime": {
     "end_time": "2024-10-15T04:44:19.148192Z",
     "start_time": "2024-10-15T04:44:19.132065Z"
    }
   },
   "cell_type": "code",
   "source": [
    "messages2=[\n",
    "    (\"human\", \"What is Large Language Model?\")\n",
    "]"
   ],
   "id": "7184cfe336bb469e",
   "outputs": [],
   "execution_count": 5
  },
  {
   "metadata": {},
   "cell_type": "markdown",
   "source": "messages2: Similar to messages1, but this time asking: \"What is Large Language Model?\".",
   "id": "4bea999c3ecc088e"
  },
  {
   "metadata": {},
   "cell_type": "markdown",
   "source": "## Second Query - Streaming Response for \"What is Large Language Model?\"",
   "id": "679eb271d92f2b40"
  },
  {
   "metadata": {
    "ExecuteTime": {
     "end_time": "2024-10-15T04:44:34.296833Z",
     "start_time": "2024-10-15T04:44:26.286069Z"
    }
   },
   "cell_type": "code",
   "source": [
    "for chunk in llm.stream(messages2):\n",
    "    print(chunk.content, end='', flush=True)"
   ],
   "id": "cf8e1ea40dd602b5",
   "outputs": [
    {
     "name": "stdout",
     "output_type": "stream",
     "text": [
      "A Large Language Model (LLM) is a type of artificial intelligence (AI) model that uses natural language processing (NLP) to understand and generate human-like language. These models are designed to process and analyze large amounts of text data, allowing them to learn patterns and relationships in language.\n",
      "\n",
      "LLMs are typically trained on massive datasets of text, such as books, articles, and conversations, which enables them to develop a broad understanding of language structures, syntax, and semantics. This training data allows the model to learn how to:\n",
      "\n",
      "1. Understand context: LLMs can identify the meaning of words, phrases, and sentences in different contexts.\n",
      "2. Generate text: LLMs can create coherent and grammatically correct text based on the input they receive.\n",
      "3. Answer questions: LLMs can provide answers to questions based on their understanding of the training data.\n",
      "\n",
      "Characteristics of Large Language Models:\n",
      "\n",
      "1. **Scalability**: LLMs are designed to handle large amounts of data, making them suitable for applications that require processing vast amounts of text.\n",
      "2. **Contextual understanding**: LLMs can understand language in context, which allows them to make more accurate predictions and generate more coherent text.\n",
      "3. **Flexibility**: LLMs can be fine-tuned for specific tasks, such as language translation or sentiment analysis.\n",
      "\n",
      "Applications of Large Language Models:\n",
      "\n",
      "1. **Virtual assistants**: LLMs are used in virtual assistants like Siri, Alexa, and Google Assistant to understand voice commands and provide responses.\n",
      "2. **Language translation**: LLMs are used to translate languages, making communication across languages possible.\n",
      "3. **Text summarization**: LLMs can summarize long documents into concise summaries, saving time for readers.\n",
      "4. **Sentiment analysis**: LLMs can analyze text to determine the sentiment or emotional tone behind it.\n",
      "\n",
      "Some popular Large Language Models include:\n",
      "\n",
      "1. BERT (Bidirectional Encoder Representations from Transformers)\n",
      "2. RoBERTa (Robustly Optimized BERT Pretraining Approach)\n",
      "3. Longformer (Long-range dependency transformer)\n",
      "\n",
      "These models have revolutionized various industries and applications, and their capabilities continue to grow as the training data expands."
     ]
    }
   ],
   "execution_count": 6
  },
  {
   "metadata": {},
   "cell_type": "markdown",
   "source": [
    "* llm.stream(): Instead of retrieving the response all at once, this streams the model's output in real-time. As the model generates content, it yields portions (chunks) of the response.\n",
    "* print(chunk.content, end='', flush=True): Each chunk of the response is printed as it's received, in a continuous flow, simulating a real-time streaming response without line breaks (end=''). The flush=True ensures that the output buffer is cleared and printed immediately."
   ],
   "id": "c042a31e54bfc8c"
  },
  {
   "metadata": {},
   "cell_type": "markdown",
   "source": [
    "## Summary\n",
    "* The code initializes an instance of the LLaMA model (llama3.2) via LangChain.\n",
    "* It sends two queries: one to get a description of Machine Learning, displayed in Markdown, and another asking for a description of Large Language Models, streamed in real-time and printed as it's generated.\n",
    "* This code is intended to be run in an IPython or Jupyter Notebook environment due to its use of Markdown and real-time streaming output. The LangChain Ollama package should also be installed, along with the Ollama LlaMA model."
   ],
   "id": "619e539e40d04c4"
  }
 ],
 "metadata": {
  "kernelspec": {
   "display_name": "Python 3",
   "language": "python",
   "name": "python3"
  },
  "language_info": {
   "codemirror_mode": {
    "name": "ipython",
    "version": 2
   },
   "file_extension": ".py",
   "mimetype": "text/x-python",
   "name": "python",
   "nbconvert_exporter": "python",
   "pygments_lexer": "ipython2",
   "version": "2.7.6"
  }
 },
 "nbformat": 4,
 "nbformat_minor": 5
}
